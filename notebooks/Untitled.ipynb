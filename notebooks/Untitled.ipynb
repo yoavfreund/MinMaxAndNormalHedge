{
 "cells": [
  {
   "cell_type": "code",
   "execution_count": 2,
   "id": "6d31f13e",
   "metadata": {},
   "outputs": [
    {
     "data": {
      "text/plain": [
       "2"
      ]
     },
     "execution_count": 2,
     "metadata": {},
     "output_type": "execute_result"
    }
   ],
   "source": []
  },
  {
   "cell_type": "code",
   "execution_count": 14,
   "id": "ebe78c82",
   "metadata": {},
   "outputs": [],
   "source": [
    "for i in range(2,10000000):\n",
    "    j=i\n",
    "    n=0\n",
    "    while i>1:\n",
    "        n+=1\n",
    "        i=int(i/2)\n",
    "    l=int(log(j)/log(2))\n",
    "    if n != l:\n",
    "        print(n,l)"
   ]
  },
  {
   "cell_type": "code",
   "execution_count": 6,
   "id": "85865a30",
   "metadata": {},
   "outputs": [
    {
     "data": {
      "text/plain": [
       "9.994353436858859"
      ]
     },
     "execution_count": 6,
     "metadata": {},
     "output_type": "execute_result"
    }
   ],
   "source": [
    "from numpy import *\n",
    "log(1020)/log(2)"
   ]
  },
  {
   "cell_type": "code",
   "execution_count": null,
   "id": "7337bf66",
   "metadata": {},
   "outputs": [],
   "source": []
  }
 ],
 "metadata": {
  "kernelspec": {
   "display_name": "Python 3 (ipykernel)",
   "language": "python",
   "name": "python3"
  },
  "language_info": {
   "codemirror_mode": {
    "name": "ipython",
    "version": 3
   },
   "file_extension": ".py",
   "mimetype": "text/x-python",
   "name": "python",
   "nbconvert_exporter": "python",
   "pygments_lexer": "ipython3",
   "version": "3.9.12"
  },
  "toc": {
   "base_numbering": 1,
   "nav_menu": {},
   "number_sections": true,
   "sideBar": true,
   "skip_h1_title": false,
   "title_cell": "Table of Contents",
   "title_sidebar": "Contents",
   "toc_cell": false,
   "toc_position": {},
   "toc_section_display": true,
   "toc_window_display": false
  }
 },
 "nbformat": 4,
 "nbformat_minor": 5
}
